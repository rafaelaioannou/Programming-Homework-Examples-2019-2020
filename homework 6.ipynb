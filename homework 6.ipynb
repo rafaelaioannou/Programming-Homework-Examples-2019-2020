{
 "cells": [
  {
   "cell_type": "markdown",
   "metadata": {
    "deletable": false,
    "editable": false,
    "nbgrader": {
     "cell_type": "markdown",
     "checksum": "8885103c18add58a482ed774a5f9ac2e",
     "grade": false,
     "grade_id": "cell-7b620f19c2459e13",
     "locked": true,
     "schema_version": 3,
     "solution": false,
     "task": false
    }
   },
   "source": [
    "Before you turn this problem in, make sure everything runs as expected. First, **restart the kernel** (in the menubar, select Kernel$\\rightarrow$Restart) and then **run all cells** (in the menubar, select Cell$\\rightarrow$Run All).\n",
    "\n",
    "Make sure you fill in any place that says `YOUR CODE HERE` or \"YOUR ANSWER HERE\", as well as your name and University of Bristol ID:"
   ]
  },
  {
   "cell_type": "code",
   "execution_count": 1,
   "metadata": {},
   "outputs": [],
   "source": [
    "NAME = \"Rafaela Ioannou\"\n",
    "UoB_ID = \"um18532\""
   ]
  },
  {
   "cell_type": "markdown",
   "metadata": {
    "deletable": false,
    "editable": false,
    "nbgrader": {
     "cell_type": "markdown",
     "checksum": "49b0ac7393abe707cd80cca21b892f9d",
     "grade": false,
     "grade_id": "cell-98de19c7342ac256",
     "locked": true,
     "schema_version": 3,
     "solution": false,
     "task": false
    }
   },
   "source": [
    "# Homework 6 \n",
    "\n",
    "This homework continues our study of  number theoretic functions and notions that are relevant to developing cyrptographic algorithms.  "
   ]
  },
  {
   "cell_type": "markdown",
   "metadata": {
    "deletable": false,
    "editable": false,
    "nbgrader": {
     "cell_type": "markdown",
     "checksum": "e2eedf569f08b401553737a4a45d8eda",
     "grade": false,
     "grade_id": "cell-c4471c71d29b417d",
     "locked": true,
     "schema_version": 3,
     "solution": false,
     "task": false
    }
   },
   "source": [
    "## Question 1: $m$-ary Conversion.\n",
    "\n",
    "This question is a generalisation of the Question 1 of the tutorial. \n",
    "\n",
    "**(a) (1 mark)** Write a function `convert` that, given a pair of integers `(number,base)` as inputs, with `number` being non-negative and `base` being a member of the set $\\{2,\\dots,32\\}$, returns a string representing `number` in `base`-ary notation. \n",
    "Note that 2-ary is just binary and that, for example, the 5-ary string representation of `43` is `'133'` since $43 = 1 \\cdot 5^2 + 3 \\cdot 5^1 + 3 \\cdot 5^0$. \n",
    " To represent the numbers $10,11,\\dots,31$ in your string representation you should use the characters `'a','b',...,'u','v'`. (So, for example, `convert(59,12)` should return `'4b'`.) "
   ]
  },
  {
   "cell_type": "code",
   "execution_count": 7,
   "metadata": {
    "deletable": false,
    "nbgrader": {
     "cell_type": "code",
     "checksum": "70f31a93463ab4e90517ddeec9ca9065",
     "grade": false,
     "grade_id": "cell-85ec2634b6599a0c",
     "locked": false,
     "schema_version": 3,
     "solution": true,
     "task": false
    }
   },
   "outputs": [],
   "source": [
    "def convert(number,base):\n",
    "    # YOUR CODE HERE\n",
    "    #raise NotImplementedError()\n",
    "    wt_message = 'Number input of wrong type'\n",
    "    ng_message = 'Number input is negative'\n",
    "    wt_base_message = 'Base imput of wrong type'\n",
    "    small_base_message = 'Base imput is less than 2'\n",
    "    large_base_message = 'Base imput is bigger than 32'\n",
    "    if not type(number) is int: \n",
    "        print(wt_message)\n",
    "        return wt_message\n",
    "    if number < 0: \n",
    "        print(ng_message)\n",
    "        return ng_message\n",
    "    if not type(base) is int:\n",
    "        print(wt_base_message)\n",
    "        return wt_base_message\n",
    "    if base < 2:\n",
    "        print(small_base_message)\n",
    "        return small_base_message\n",
    "    if base > 32:\n",
    "        print(large_base_message)\n",
    "        return large_base_message\n",
    "    #We have dealt with bad input\n",
    "    #Now for the main part\n",
    "    \n",
    "    m_string = ''\n",
    "    if number == 0:\n",
    "        m_string = '0'\n",
    "    while number > 0:\n",
    "        if number%base == 0:\n",
    "            m_string = '0' + m_string\n",
    "        elif number%base < 10:\n",
    "            N = number%base\n",
    "            m_string = str(N) + m_string\n",
    "        elif number%base >= 10:\n",
    "            M = number%base\n",
    "            M1 = chr(M+87)\n",
    "            m_string = str(M1) + m_string\n",
    "        number = number//base\n",
    "    return m_string  \n",
    "\n"
   ]
  },
  {
   "cell_type": "code",
   "execution_count": 3,
   "metadata": {},
   "outputs": [],
   "source": [
    "# Change the value of base and max and test your functions with these values\n",
    "# in the next cell \n",
    "base = 28\n",
    "max = 100000"
   ]
  },
  {
   "cell_type": "code",
   "execution_count": 4,
   "metadata": {
    "deletable": false,
    "editable": false,
    "nbgrader": {
     "cell_type": "code",
     "checksum": "f489c0f090abc938042e73783d23fa43",
     "grade": false,
     "grade_id": "cell-4701204e746a4b6b",
     "locked": true,
     "schema_version": 3,
     "solution": false,
     "task": false
    }
   },
   "outputs": [
    {
     "name": "stdout",
     "output_type": "stream",
     "text": [
      "Input  Base  Converted\n",
      "=====  ====  =========\n",
      "31075  28    1bhn       \n",
      "81003  28    3j8r       \n",
      "46061  28    22l1       \n",
      "52015  28    2a9j       \n",
      "83373  28    3m9h       \n",
      "81915  28    3kdf       \n",
      "4761   28    621        \n",
      "36632  28    1ik8       \n",
      "94530  28    48g2       \n",
      "76005  28    3cqd       \n",
      "33916  28    1f78       \n",
      "30331  28    1aj7       \n",
      "23385  28    11n5       \n",
      "66791  28    315b       \n",
      "63200  28    2oh4       \n",
      "84321  28    3nfd       \n",
      "21081  28    qop        \n",
      "69185  28    346p       \n",
      "25340  28    1490       \n",
      "99720  28    4f5c       \n"
     ]
    }
   ],
   "source": [
    "# Friendly testing area. \n",
    "# This cell is NOT graded. \n",
    "from random import randint\n",
    "\n",
    "print(\"Input  Base  Converted\")\n",
    "print(\"=====  ====  =========\")\n",
    "for i in range(20): \n",
    "    n = randint(0,max)      # Define max in the previous cell \n",
    "    d = convert(n,base)     # Define base in the previous cell \n",
    "    print(\"{:<7}{:<6}{:<11}\".format(n,base,d))"
   ]
  },
  {
   "cell_type": "code",
   "execution_count": 5,
   "metadata": {
    "deletable": false,
    "editable": false,
    "nbgrader": {
     "cell_type": "code",
     "checksum": "1ab6d0ac9abe80932b84121888e6e576",
     "grade": true,
     "grade_id": "cell-b3d10603696d09f4",
     "locked": true,
     "points": 1,
     "schema_version": 3,
     "solution": false,
     "task": false
    }
   },
   "outputs": [],
   "source": [
    "# In each of the tests (including 4 hidden tests) convert(number,base) is such that \n",
    "# number is a non-negative integer and base in an integer in the interval [2,32]\n",
    "assert convert(0,7) == '0'\n",
    "assert convert(17,8) == '21'\n",
    "assert convert(854,2) == '1101010110'\n",
    "assert convert(183,5) == '1213'\n",
    "assert convert(388,11) == '323'\n",
    "assert convert(3496,32) == '3d8'\n",
    "assert convert(5961,28) == '7gp'\n",
    "assert convert(78932148,25) == '821gan'"
   ]
  },
  {
   "cell_type": "markdown",
   "metadata": {
    "deletable": false,
    "editable": false,
    "nbgrader": {
     "cell_type": "markdown",
     "checksum": "68fd5e8768020be1678aac86b15eccfd",
     "grade": false,
     "grade_id": "cell-5d206148fa1909cd",
     "locked": true,
     "schema_version": 3,
     "solution": false,
     "task": false
    }
   },
   "source": [
    "**(b) (1 mark)** Write a function `revert` that, given pair `(num_string,base)`, where `base` is a number in the set  $\\{2,\\dots,32\\}$  and `num_string` is  a string of digits in the set $\\{0,\\dots,m-1\\}$, returns the integer (in decimal) of which `num_string` is the `base`-ary representation. (So, for example, `revert('4b',12)` should return `59`.) "
   ]
  },
  {
   "cell_type": "code",
   "execution_count": 13,
   "metadata": {
    "deletable": false,
    "nbgrader": {
     "cell_type": "code",
     "checksum": "129daf64f196238a633f63d42eb3e2de",
     "grade": false,
     "grade_id": "cell-310ec161adb2380d",
     "locked": false,
     "schema_version": 3,
     "solution": true,
     "task": false
    }
   },
   "outputs": [],
   "source": [
    "def revert(num_string,base): \n",
    "    # YOUR CODE HERE\n",
    "    #raise NotImplementedError()\n",
    "    wt_message = 'Input of wrong type'\n",
    "    wt_base_message = 'Base imput of wrong type'\n",
    "    small_base_message = 'Base imput is less than 2'\n",
    "    large_base_message = 'Base imput is bigger than 32'\n",
    "    if not type(num_string) is str: \n",
    "        print(wt_message)\n",
    "        return wt_message\n",
    "    if not type(base) is int:\n",
    "        print(wt_base_message)\n",
    "        return wt_base_message\n",
    "    if base < 2:\n",
    "        print(small_base_message)\n",
    "        return small_base_message\n",
    "    if base > 32:\n",
    "        print(large_base_message)\n",
    "        return large_base_message\n",
    "    #Now for the main part\n",
    "    \n",
    "    size = len(num_string)\n",
    "    product = 1                \n",
    "    current_n = 0\n",
    "    \n",
    "    for i in range(size):\n",
    "        bit = (num_string[size - i - 1]) \n",
    "        if not str. isdigit(bit):\n",
    "            bit = ord(bit) - 87\n",
    "        current_n += int(bit) * product\n",
    "        product *= base\n",
    "            \n",
    "    return current_n\n",
    "\n"
   ]
  },
  {
   "cell_type": "code",
   "execution_count": 9,
   "metadata": {},
   "outputs": [],
   "source": [
    "# Change the value of base and test your functions with this value\n",
    "# in the next cell \n",
    "base = 26"
   ]
  },
  {
   "cell_type": "code",
   "execution_count": 8,
   "metadata": {
    "deletable": false,
    "editable": false,
    "nbgrader": {
     "cell_type": "code",
     "checksum": "4869effdfab77c1e04715e3738989d61",
     "grade": false,
     "grade_id": "cell-6f79015970f0e238",
     "locked": true,
     "schema_version": 3,
     "solution": false,
     "task": false
    }
   },
   "outputs": [
    {
     "name": "stdout",
     "output_type": "stream",
     "text": [
      "Input  Base  Converted  Reverted\n",
      "=====  ====  =========  ========\n",
      "3827   26    5h5        3827    \n",
      "2202   26    36i        2202    \n",
      "1183   26    1jd        1183    \n",
      "4816   26    736        4816    \n",
      "3534   26    55o        3534    \n",
      "1529   26    26l        1529    \n",
      "4751   26    70j        4751    \n",
      "1308   26    1o8        1308    \n",
      "4475   26    6g3        4475    \n",
      "432    26    gg         432     \n",
      "1479   26    24n        1479    \n",
      "4810   26    730        4810    \n",
      "4672   26    6ni        4672    \n",
      "1832   26    2ic        1832    \n",
      "137    26    57         137     \n",
      "2293   26    3a5        2293    \n",
      "2706   26    402        2706    \n",
      "308    26    bm         308     \n",
      "3044   26    4d2        3044    \n",
      "4859   26    74n        4859    \n"
     ]
    }
   ],
   "source": [
    "# Some friendly checks \n",
    "# This cell is NOT graded. \n",
    "from random import randint\n",
    "print(\"Input  Base  Converted  Reverted\")\n",
    "print(\"=====  ====  =========  ========\")\n",
    "for i in range(20): \n",
    "    n = randint(0,5000)\n",
    "    d = convert(n,base)     # Define base in the previous cell\n",
    "    k = revert(d,base)\n",
    "    print(\"{:<7}{:<6}{:<11}{:<8}\".format(n,base,d,k))"
   ]
  },
  {
   "cell_type": "code",
   "execution_count": 9,
   "metadata": {
    "deletable": false,
    "editable": false,
    "nbgrader": {
     "cell_type": "code",
     "checksum": "266ffb822b9013c2d28593e86dfc04b7",
     "grade": true,
     "grade_id": "cell-f95542edb2dc96de",
     "locked": true,
     "points": 1,
     "schema_version": 3,
     "solution": false,
     "task": false
    }
   },
   "outputs": [],
   "source": [
    "# In each of the tests (including 4 hidden tests) revert(num_string,base) is such that \n",
    "# num_string is a valid base-ary string representation. For example below '1213' is a \n",
    "# valid 5-ary string representation (of the number 854 in decimal). \n",
    "# Also, (in each test) base in an integer in the interval [2,32]\n",
    "assert revert('0',5) == 0\n",
    "assert revert('1101010110',2) == 854\n",
    "assert revert('1213',5) == 183\n",
    "assert revert('323',11) == 388\n",
    "assert revert('3d8',32) == 3496\n",
    "assert revert('7gp',28) == 5961\n",
    "assert revert('e2d89c5',17) == 341893567"
   ]
  },
  {
   "cell_type": "markdown",
   "metadata": {
    "deletable": false,
    "editable": false,
    "nbgrader": {
     "cell_type": "markdown",
     "checksum": "c91d1e093921f144e9a0a615a2b21a15",
     "grade": false,
     "grade_id": "cell-47777b8fb14e6426",
     "locked": true,
     "schema_version": 3,
     "solution": false,
     "task": false
    }
   },
   "source": [
    " # Question 2: Perfect numbers \n",
    " \n",
    "It is an open problem as to whether any odd perfect numbers exist. On the other hand we know that, for any even number $n$, $n$ is perfect if and only if $n = (2^p - 1) \\cdot 2^{p-1}$\n",
    "and $2^p - 1$ is prime. Note that the if $2^p - 1$ is prime then $p$ is also prime. (Remember also that a prime of the form $2^p - 1$ is called a *Mersenne prime*.) \n",
    "\n",
    "**(1 mark)** Write down a function `list_even_perfect` that, given any non-negative integer `upper` as input, returns a list of all the even perfect numbers in the interval `[0,upper]`. \n",
    "\n",
    "Note that you will need the `is_prime` function that we defined in the lectures and hence this is imported from the `miller_rabin` module. (So make sure that the file `miller_rabin.py` is in the folder that you are presently working in.) "
   ]
  },
  {
   "cell_type": "code",
   "execution_count": 14,
   "metadata": {
    "deletable": false,
    "nbgrader": {
     "cell_type": "code",
     "checksum": "42bbba1c717c8a2b3baf04ecbdd7e7aa",
     "grade": false,
     "grade_id": "cell-fbe3548db00692cc",
     "locked": false,
     "schema_version": 3,
     "solution": true,
     "task": false
    }
   },
   "outputs": [
    {
     "ename": "ModuleNotFoundError",
     "evalue": "No module named 'miller_rabin'",
     "output_type": "error",
     "traceback": [
      "\u001b[0;31m---------------------------------------------------------------------------\u001b[0m",
      "\u001b[0;31mModuleNotFoundError\u001b[0m                       Traceback (most recent call last)",
      "\u001b[0;32m<ipython-input-14-15d92866f87c>\u001b[0m in \u001b[0;36m<module>\u001b[0;34m\u001b[0m\n\u001b[0;32m----> 1\u001b[0;31m \u001b[0;32mfrom\u001b[0m \u001b[0mmiller_rabin\u001b[0m \u001b[0;32mimport\u001b[0m \u001b[0mis_prime\u001b[0m\u001b[0;34m\u001b[0m\u001b[0;34m\u001b[0m\u001b[0m\n\u001b[0m\u001b[1;32m      2\u001b[0m \u001b[0;34m\u001b[0m\u001b[0m\n\u001b[1;32m      3\u001b[0m \u001b[0;32mdef\u001b[0m \u001b[0mlist_even_perfect\u001b[0m\u001b[0;34m(\u001b[0m\u001b[0mupper\u001b[0m\u001b[0;34m)\u001b[0m\u001b[0;34m:\u001b[0m\u001b[0;34m\u001b[0m\u001b[0;34m\u001b[0m\u001b[0m\n\u001b[1;32m      4\u001b[0m     \u001b[0;31m# YOUR CODE HERE\u001b[0m\u001b[0;34m\u001b[0m\u001b[0;34m\u001b[0m\u001b[0;34m\u001b[0m\u001b[0m\n\u001b[1;32m      5\u001b[0m     \u001b[0;31m#raise NotImplementedError()\u001b[0m\u001b[0;34m\u001b[0m\u001b[0;34m\u001b[0m\u001b[0;34m\u001b[0m\u001b[0m\n",
      "\u001b[0;31mModuleNotFoundError\u001b[0m: No module named 'miller_rabin'"
     ]
    }
   ],
   "source": [
    "from miller_rabin import is_prime\n",
    "    \n",
    "def list_even_perfect(upper): \n",
    "    # YOUR CODE HERE\n",
    "    #raise NotImplementedError()\n",
    "    if upper == 0:\n",
    "        return []\n",
    "    else:\n",
    "        primes = []\n",
    "        for x in range(upper+1):\n",
    "            B = is_prime(x)\n",
    "            if B == True:\n",
    "                primes.append(x)\n",
    "        perf_num_list = [] \n",
    "        for p in primes:\n",
    "            q = ((2**p)-1)*(2**(p-1))\n",
    "            i = (2**p)-1\n",
    "            j = is_prime(i)\n",
    "            if j == True and q <= upper:\n",
    "                perf_num_list.append(q)\n",
    "    return perf_num_list\n",
    "\n",
    "print(list_even_perfect(6))"
   ]
  },
  {
   "cell_type": "code",
   "execution_count": null,
   "metadata": {
    "deletable": false,
    "editable": false,
    "nbgrader": {
     "cell_type": "code",
     "checksum": "fe5c9b12571562151f9302645315f24a",
     "grade": true,
     "grade_id": "cell-76217b8142efd508",
     "locked": true,
     "points": 1,
     "schema_version": 3,
     "solution": false,
     "task": false
    }
   },
   "outputs": [],
   "source": [
    "# In each of the tests (including one hidden test) the input is a non-negative integer. \n",
    "assert list_even_perfect(0) == []\n",
    "assert list_even_perfect(6) == [6]\n",
    "assert list_even_perfect(28) == [6,28]\n",
    "assert list_even_perfect(85) == [6,28]\n",
    "assert list_even_perfect(496) == [6,28,496]\n",
    "assert list_even_perfect(8127) == [6,28,496]\n",
    "perf_list = [6,28,496,8128,33550336,8589869056,137438691328,\n",
    "             2305843008139952128,2658455991569831744654692615953842176]\n",
    "assert list_even_perfect(10**50) == perf_list"
   ]
  },
  {
   "cell_type": "markdown",
   "metadata": {
    "deletable": false,
    "editable": false,
    "nbgrader": {
     "cell_type": "markdown",
     "checksum": "889b5dd774d192647104d3d9a43f7f9f",
     "grade": false,
     "grade_id": "cell-baef79ff6deab26a",
     "locked": true,
     "schema_version": 3,
     "solution": false,
     "task": false
    }
   },
   "source": [
    "# Question 3: Primitive Roots\n",
    "\n",
    "This question follows on from Question 3 of the week 9 tutorial. The functions defined during the tutorial `is_sg_prime` and `is_prim_root_safe` are imported below from the module `primitive_roots`. The function `is_prime` is also imported from the module `miller_rabin`. \n",
    "(So make sure that the files `primitive_roots.py` and `miller_rabin.py` are in the folder that you are presently working in.) \n",
    "\n",
    "**Reminder.** A prime number $q$ is called a *Sophie Germain prime* if the number\n",
    "$p := 2 \\cdot q + 1$ is also prime. A prime $p$ of this type (i.e. such that \n",
    "$p := 2 \\cdot q + 1$ where $q$ is also prime) is called a *safe prime*. \n",
    "\n",
    "**(a) (1 mark)** Write down a function `find_prim_root_safe` that, given a safe prime `p` as input returns the least primitive root modulo `p`.  If the input is a non-negative integer that is not a safe prime your function should both print and return the string `'Input not a safe prime'`. (Note that if `a` is a primitive root modulo `p`, then `a` $\\ge$ `2` by definition.) "
   ]
  },
  {
   "cell_type": "code",
   "execution_count": null,
   "metadata": {
    "deletable": false,
    "editable": false,
    "nbgrader": {
     "cell_type": "code",
     "checksum": "31d7a620547c87c887d846364208bbe6",
     "grade": false,
     "grade_id": "cell-0dbf7714fd503ba2",
     "locked": true,
     "schema_version": 3,
     "solution": false,
     "task": false
    }
   },
   "outputs": [],
   "source": [
    "from miller_rabin import is_prime\n",
    "from primitive_roots import is_sg_prime, is_prim_root_safe"
   ]
  },
  {
   "cell_type": "code",
   "execution_count": null,
   "metadata": {
    "deletable": false,
    "nbgrader": {
     "cell_type": "code",
     "checksum": "5c845edd3ee801f5fe2bcadc88ea4a56",
     "grade": false,
     "grade_id": "cell-d8aebcc14b9bccc0",
     "locked": false,
     "schema_version": 3,
     "solution": true,
     "task": false
    }
   },
   "outputs": [],
   "source": [
    "\n",
    "def find_prim_root_safe(p): \n",
    "    # YOUR CODE HERE\n",
    "    #raise NotImplementedError()\n",
    "    nsp_message = ('Input not a safe prime')\n",
    "    \n",
    "    q = p - 1\n",
    "    qq = q/2\n",
    "    if q%2 == 0 and is_sg_prime(int(qq)) == True:\n",
    "        b = 2\n",
    "        while b in range(2,p):\n",
    "            if is_prim_root_safe(b,p) == True:\n",
    "                return b\n",
    "            else:\n",
    "                b += 1\n",
    "                \n",
    "    else:\n",
    "        return nsp_message\n",
    "\n",
    "print(find_prim_root_safe(479))"
   ]
  },
  {
   "cell_type": "code",
   "execution_count": null,
   "metadata": {
    "deletable": false,
    "editable": false,
    "nbgrader": {
     "cell_type": "code",
     "checksum": "274fc65d0e2bf34cb5e27d86d0e967bd",
     "grade": true,
     "grade_id": "cell-971c0548fdfca7be",
     "locked": true,
     "points": 1,
     "schema_version": 3,
     "solution": false,
     "task": false
    }
   },
   "outputs": [],
   "source": [
    "# In each of the tests (including 5 hidden tests) the input is a non-negative integer. \n",
    "assert find_prim_root_safe(0) == 'Input not a safe prime'\n",
    "assert find_prim_root_safe(479) == 13\n",
    "assert find_prim_root_safe(719) == 11\n",
    "assert find_prim_root_safe(119759) == 17\n",
    "assert find_prim_root_safe(2000000579) == 2\n",
    "assert find_prim_root_safe(2000003519) == 13\n",
    "assert find_prim_root_safe(2000006543) == 5\n",
    "assert find_prim_root_safe(31) == 'Input not a safe prime'\n",
    "assert find_prim_root_safe(1000004123) == 'Input not a safe prime'"
   ]
  },
  {
   "cell_type": "markdown",
   "metadata": {
    "deletable": false,
    "editable": false,
    "nbgrader": {
     "cell_type": "markdown",
     "checksum": "8e37a9f0f6589d91f62594b3710ce440",
     "grade": false,
     "grade_id": "cell-f72632f46d0b2033",
     "locked": true,
     "schema_version": 3,
     "solution": false,
     "task": false
    }
   },
   "source": [
    "**(b) (1 mark)** Write down a function `enum_safe_primes` which, given input `(lower,n)`, returns a dictionary containing `n` many  `key:value` pairs where the keys are the first `n` Sophie Germain primes of size at least `lower` and the `value` associated with each `key`  is the pair `(p,a)`,   where `p` is the safe prime corresponding to the `key`, and `a` is the least primitive root modulo `p`. (Note that the round brackets of `(p,a)` indicate that this is a pair which is, by definition,  a $2$-tuple and NOT a list.)"
   ]
  },
  {
   "cell_type": "code",
   "execution_count": null,
   "metadata": {
    "deletable": false,
    "nbgrader": {
     "cell_type": "code",
     "checksum": "004c168e5d91952988d7d0b303e4cb33",
     "grade": false,
     "grade_id": "cell-7675ba26501c875e",
     "locked": false,
     "schema_version": 3,
     "solution": true,
     "task": false
    }
   },
   "outputs": [],
   "source": [
    "def enum_safe_primes(lower,n): \n",
    "    # YOUR CODE HERE\n",
    "    #raise NotImplementedError()\n",
    "    key_no = []\n",
    "    for i in range(lower,n*lower):\n",
    "        if is_sg_prime(i) == True:\n",
    "            if len(key_no) < n:\n",
    "                key_no.append(i)                    \n",
    "    p = []\n",
    "    a = []\n",
    "    d = {}\n",
    "    for n in range(lower,n+1):\n",
    "        p[n] = key_no[n]*2 + 1 \n",
    "        a[n] = find_prim_root_safe(p[n])\n",
    "\n",
    "        d[key_no[n]] = (p[n],a[n])\n",
    "        \n",
    "    return d    \n",
    "\n",
    "print(enum_safe_primes(350,4))"
   ]
  },
  {
   "cell_type": "code",
   "execution_count": null,
   "metadata": {
    "deletable": false,
    "editable": false,
    "nbgrader": {
     "cell_type": "code",
     "checksum": "9ea5ac237e7e5b81c3e15f29270406fa",
     "grade": true,
     "grade_id": "cell-4affc864599486f2",
     "locked": true,
     "points": 1,
     "schema_version": 3,
     "solution": false,
     "task": false
    }
   },
   "outputs": [],
   "source": [
    "# In each of the tests (including 2 hidden tests) the inputs are non-negative integers.\n",
    "assert enum_safe_primes(0,0) == {}\n",
    "assert enum_safe_primes(0,1) == {2: (5, 2)}\n",
    "assert enum_safe_primes(1,1) == {2: (5, 2)}\n",
    "assert enum_safe_primes(1,5) == {2: (5, 2), 3: (7, 3), 5: (11, 2), \n",
    "                                 11: (23, 5), 23: (47, 5)}\n",
    "assert enum_safe_primes(350,4) == {359: (719, 11), 419: (839, 11), \n",
    "                                   431: (863, 5), 443: (887, 5)}\n",
    "assert enum_safe_primes(3**15,0) == {}\n",
    "assert enum_safe_primes(3**15,2) == {14348963: (28697927, 5), 14349059: (28698119, 7)}"
   ]
  },
  {
   "cell_type": "markdown",
   "metadata": {
    "deletable": false,
    "editable": false,
    "nbgrader": {
     "cell_type": "markdown",
     "checksum": "674bad1b607a4ec6a34c7587bf9e2234",
     "grade": false,
     "grade_id": "cell-852cdda77f9799c0",
     "locked": true,
     "schema_version": 3,
     "solution": false,
     "task": false
    }
   },
   "source": [
    "# Question 4: message coding and decoding \n",
    "\n",
    "The purpose of this exercise is to define coding and decoding functions in precisely the same way as in the Preliminaries of Lecture 18 BUT using decimal representation instead of binary representation. You will work with characters whose ASCII number is in the range $0$ to $255$ (generated by `range(256)`). In the lecture notes we work with $8$-bit binary representations of the ASCII number of a character. Here you will work with the $3$-digit decimal representation of the ASCII number using the zero character `'0'` to pad out $1$-digit or $2$-digit numbers. (Accordingly `'009'`,`'037'`, `'075'` and `'248'` are the decimal string representations of the characters `'\\t'`,`'%'`, `'K'` and `'ø'` respectively.) \n",
    "\n",
    "**(a) (1 mark)** Define a function a function `char_to_dec` that, given character `c` (whose ASCII number is in the specified range) as input, outputs the $3$-digit decimal (string) representation of `c`. "
   ]
  },
  {
   "cell_type": "code",
   "execution_count": null,
   "metadata": {
    "deletable": false,
    "nbgrader": {
     "cell_type": "code",
     "checksum": "aa291c1417081a5b4a3ecc2fc7e63fd6",
     "grade": false,
     "grade_id": "cell-b597f0c6e9f42ec3",
     "locked": false,
     "schema_version": 3,
     "solution": true,
     "task": false
    }
   },
   "outputs": [],
   "source": [
    "def char_to_dec(c): \n",
    "    # YOUR CODE HERE\n",
    "    #raise NotImplementedError()\n",
    "    n = ord(c)\n",
    "    n_string = ''\n",
    "    n_string = n_string + str(n)\n",
    "    if len(n_string) == 2:\n",
    "        n_string = '0' + n_string\n",
    "    if len(n_string) == 1:\n",
    "        n_string = '00' + n_string\n",
    "        \n",
    "    return n_string\n",
    "#print(char_to_dec('h'))\n",
    "\n",
    "print(char_to_dec)"
   ]
  },
  {
   "cell_type": "code",
   "execution_count": null,
   "metadata": {
    "deletable": false,
    "editable": false,
    "nbgrader": {
     "cell_type": "code",
     "checksum": "0a98f293c01245c666c9eb352e8fdee0",
     "grade": false,
     "grade_id": "cell-39b4dc5e5280712c",
     "locked": true,
     "schema_version": 3,
     "solution": false,
     "task": false
    }
   },
   "outputs": [],
   "source": [
    "# Friendly testing area. \n",
    "# This cell is NOT graded\n",
    "\n",
    "print(\"ASCII    Character    Check\")\n",
    "print(\"=====    =========    =====\")\n",
    "for n in range(32,256):\n",
    "    c = chr(n)\n",
    "    c_dec = char_to_dec(c)\n",
    "    print(\"{:<9d}{:13s}{:5s}\".format(n,c,c_dec))"
   ]
  },
  {
   "cell_type": "code",
   "execution_count": null,
   "metadata": {
    "deletable": false,
    "editable": false,
    "nbgrader": {
     "cell_type": "code",
     "checksum": "6bd28adb750fabcea92cf728161ad9ac",
     "grade": true,
     "grade_id": "cell-d7e55dc845ec703d",
     "locked": true,
     "points": 1,
     "schema_version": 3,
     "solution": false,
     "task": false
    }
   },
   "outputs": [],
   "source": [
    "# In each of the tests (including 4 hidden tests) the inputs are characters whose \n",
    "# ASCII number is in the interval [32,255]\n",
    "assert char_to_dec(' ') == '032'\n",
    "assert char_to_dec('#') == '035'\n",
    "assert char_to_dec('@') == '064'\n",
    "assert char_to_dec('K') == '075'\n",
    "assert char_to_dec('}') == '125'\n",
    "assert char_to_dec('Ä') == '196'\n",
    "assert char_to_dec('à') == '224'\n",
    "assert char_to_dec('ý') == '253'"
   ]
  },
  {
   "cell_type": "markdown",
   "metadata": {
    "deletable": false,
    "editable": false,
    "nbgrader": {
     "cell_type": "markdown",
     "checksum": "6e91836ef5647a5ff584d3cdfc77c3a1",
     "grade": false,
     "grade_id": "cell-8db69688b575597c",
     "locked": true,
     "schema_version": 3,
     "solution": false,
     "task": false
    }
   },
   "source": [
    "**(b) (1 mark)** Write down a function `dec_convert_to_integer` that behaves like `convert_to_integer` from the Preliminaries of  Lecture 18 but uses `char_to_dec` instead of `char_to_byte`. I.e. `dec_convert_to_integer` takes as input a string `a_text` and outputs a (unique) integer using the decimal method from above (instead of the binary method from the lecture).  "
   ]
  },
  {
   "cell_type": "code",
   "execution_count": null,
   "metadata": {
    "deletable": false,
    "nbgrader": {
     "cell_type": "code",
     "checksum": "2d4e852213e13f279d3bf7950a03763c",
     "grade": false,
     "grade_id": "cell-4154c3c598e15089",
     "locked": false,
     "schema_version": 3,
     "solution": true,
     "task": false
    }
   },
   "outputs": [],
   "source": [
    "def dec_convert_to_integer(a_text): \n",
    "    # YOUR CODE HERE\n",
    "    #raise NotImplementedError()\n",
    "    n_string = '1'\n",
    "    for letter in a_text:\n",
    "        n_string = n_string + char_to_dec(letter)\n",
    "    print(\"The decimal representation of this message is:\") \n",
    "    print(n_string)\n",
    "    return int(n_string)\n",
    "\n",
    "#print(dec_convert_to_integer('abc'))"
   ]
  },
  {
   "cell_type": "code",
   "execution_count": null,
   "metadata": {
    "deletable": false,
    "editable": false,
    "nbgrader": {
     "cell_type": "code",
     "checksum": "0c1aaf197cc1f5a98cacda985332b7cb",
     "grade": true,
     "grade_id": "cell-cb9d73b9e7d28ebf",
     "locked": true,
     "points": 1,
     "schema_version": 3,
     "solution": false,
     "task": false
    }
   },
   "outputs": [],
   "source": [
    "# In each of the tests (including 2 hidden tests) the input is a string comprising \n",
    "# a message written in a European language.(So  all characters used have ASCII number\n",
    "# in the interval [32,255])\n",
    "message_one = \"This is a message that will be coded and decoded.\"\n",
    "message_two = \"Nous avons réussi à communiquer en secret.\\n\"\n",
    "message_two += \"Mais faites attention: il y a des espions dans les environs.\"\n",
    "print(\"Message one\")\n",
    "print(\"===========\")\n",
    "print(message_one,\"\\n\")\n",
    "print(\"Message two (in French)\")\n",
    "print(\"=======================\")\n",
    "print(message_two,\"\\n\")\n",
    "print(\"Now testing whether your function encodes these \") \n",
    "print(\"messages correctly...\\n\\n\",)\n",
    "# The integers corresponding to each of the above messages\n",
    "dec_code_one = int('''\n",
    "1084104105115032105115032097032109101115115\n",
    "0971031010321161040971160321191051081080320\n",
    "9810103209911110010110003209711010003210010\n",
    "1099111100101100046\n",
    "'''.replace('\\n',''))\n",
    "dec_code_two = int('''\n",
    "1078111117115032097118111110115032114233117\n",
    "1151151050322240320991111091091171101051131\n",
    "1710111403210111003211510109911410111604601\n",
    "0077097105115032102097105116101115032097116\n",
    "1161011101161051111100580321051080321210320\n",
    "9703210010111503210111511210511111011503210\n",
    "0097110115032108101115032101110118105114111\n",
    "110115046\n",
    "'''.replace('\\n',''))\n",
    "# Testing your output\n",
    "assert dec_convert_to_integer(message_one) == dec_code_one\n",
    "assert dec_convert_to_integer(message_two) == dec_code_two"
   ]
  },
  {
   "cell_type": "markdown",
   "metadata": {
    "deletable": false,
    "editable": false,
    "nbgrader": {
     "cell_type": "markdown",
     "checksum": "0c8457eea3d294384acfa7c083649e59",
     "grade": false,
     "grade_id": "cell-2822b6126524e847",
     "locked": true,
     "schema_version": 3,
     "solution": false,
     "task": false
    }
   },
   "source": [
    "**(c) (1 mark)** Write down a function `dec_convert_to_text` which takes as input a positive integer and returns the string (i.e. a piece of text)  that this number is a code for under the method implemented by your function `dec_convert_to_integer`. "
   ]
  },
  {
   "cell_type": "code",
   "execution_count": null,
   "metadata": {
    "deletable": false,
    "nbgrader": {
     "cell_type": "code",
     "checksum": "0562ba1b18dce08a9df1b30ad7769e6e",
     "grade": false,
     "grade_id": "cell-41daa9cdbed9158a",
     "locked": false,
     "schema_version": 3,
     "solution": true,
     "task": false
    }
   },
   "outputs": [],
   "source": [
    "def dec_convert_to_text(n):\n",
    "    # YOUR CODE HERE\n",
    "    #raise NotImplementedError()\n",
    "    wt_message = 'Input of wrong type'\n",
    "    ng_message = 'Input is negative'\n",
    "    if not type(n) is int: \n",
    "        print(wt_message)\n",
    "        return wt_message\n",
    "    if n < 0: \n",
    "        print(ng_message)\n",
    "        return ng_message\n",
    "    \n",
    "    \n",
    "    n_string = str(n)[1:] \n",
    "    text = ''\n",
    "    length = len(n_string)\n",
    "    for i in range(0,length,3):\n",
    "        three_string = n_string[i:i+3]\n",
    "        text += chr(int(three_string))\n",
    "    return text    \n",
    "\n",
    "#print(dec_convert_to_text(1084104105115032))"
   ]
  },
  {
   "cell_type": "code",
   "execution_count": null,
   "metadata": {
    "deletable": false,
    "editable": false,
    "nbgrader": {
     "cell_type": "code",
     "checksum": "1e4fa009c7b880a105dadfe5bac2b087",
     "grade": true,
     "grade_id": "cell-a1fa6771bb5fbe9c",
     "locked": true,
     "points": 1,
     "schema_version": 3,
     "solution": false,
     "task": false
    }
   },
   "outputs": [],
   "source": [
    "# In each of the tests (including 2 hidden tests) the input is a \n",
    "# positive integer. Note that we use message_one and message_two \n",
    "# from the testing area of part (b) above. So make sure that the \n",
    "# testing  area of part (b) is executed first - otherwise message_one \n",
    "# and message_two will not be defined. \n",
    "# We start  by printing out these messages. \n",
    "print(\"Message one after coding and successful decoding should be...\")\n",
    "print(\"===========================================================\")\n",
    "print(message_one,\"\\n\")\n",
    "print(\"Message two after coding and successful decoding should be...\")\n",
    "print(\"===========================================================\")\n",
    "print(message_two,\"\\n\")\n",
    "print(\"Now testing whether your function does the decoding part\") \n",
    "print(\"of this correctly...\\n\\n\",)\n",
    "# Now we test that your function does this for (i.e. decodes correctly) the \n",
    "# integers dec_code_one and dec_code_two from the testing area of part (b)\n",
    "assert dec_convert_to_text(dec_code_one) == message_one\n",
    "assert dec_convert_to_text(dec_code_two) == message_two"
   ]
  },
  {
   "cell_type": "markdown",
   "metadata": {
    "deletable": false,
    "editable": false,
    "nbgrader": {
     "cell_type": "markdown",
     "checksum": "0ccf6261571d5c871ef6cc95a9e2bb19",
     "grade": false,
     "grade_id": "cell-283da2592d2a99bf",
     "locked": true,
     "schema_version": 3,
     "solution": false,
     "task": false
    }
   },
   "source": [
    "# Question 5: encoding pairs of integers\n",
    "\n",
    "In the study of the algorithmic content of mathematics it is essential to have tools for encoding finite objects/structures, such as finite sequences, as integers. In this exercise we will study a pairing function - i.e. a function which encodes 2-element sequences. \n",
    "\n",
    "**Notation.** We use $\\mathbb{N}$ to denote the set of non-negative integers \n",
    "$\\{n \\;|\\;n \\in \\mathbb{Z} \\;\\&\\; n \\ge 0 \\}$. \n",
    "\n",
    "**(a)** We define the paring function \n",
    "$f : \\mathbb{N} \\times \\mathbb{N} \\rightarrow \\mathbb{N}$ by \n",
    "$$\n",
    "f : (x,y) \\mapsto \\frac{1}{2} \\left(x + y\\right)\\left(x + y + 1\\right) + x \\,. \n",
    "$$\n",
    "\n",
    "**Note 1.** $f$ is bijective. \n",
    "\n",
    "**Note 2.** The formula for $f$ is derived using the infinite grid representation of \n",
    "$\\mathbb{N} \\times \\mathbb{N}$ where row $x$  contains all pairs with first component $x$ and column $y$ contains all pairs with second component $y$. In the  diagram below you can see the $9$ pairs in the  bottom left hand corner of this grid. Starting with \n",
    "$(0,0)$ we follow the arrows. In this way we take each diagonal and walk down it from the top. The number of pairs on each diagonal is one more than the sum of the entries of each pair on the diagonal. This means that, for any pair $(x,y)$, the number of pairs on previous diagonals is $1 + 2 + \\cdots + (x + y)$. Also the number of pairs above it on the same diagonal is $x$. \n",
    "Thus we can simply define $f$ on input $(x,y)$ as the function that counts the number of pairs preceding $(x,y)$ in the grid according to this pattern.  In this way we obtain the formula for $f$ shown above. (Hence under $f$ we have that  $(0,0) \\mapsto 0$, $(0,1) \\mapsto 1$, $(1,0) \\mapsto 2, \\dots ,(3,0) \\mapsto 9$ etc.)  \n",
    "\n",
    "<img src=\"pairing_function.jpg\" alt=\"pairs_diagram\" style=\"width: 400px\">\n",
    "\n",
    "(Taken from the book *Computability Theory* by Rebecca Weber, AMS, 2016.) \n",
    "\n",
    "**(a) (1 mark)** Write down a function `encode_pair` that implements $f$, i.e. which, given input `a_pair` with `a_pair` = `(x,y)` for some non-negative integers `x`, `y`, returns  the integer \n",
    "given by $f\\left((x,y)\\right)$. \n"
   ]
  },
  {
   "cell_type": "code",
   "execution_count": null,
   "metadata": {
    "deletable": false,
    "nbgrader": {
     "cell_type": "code",
     "checksum": "c9046a6a2b44e46e4e3380a9847efd7f",
     "grade": false,
     "grade_id": "cell-79b1b7bb5da215dd",
     "locked": false,
     "schema_version": 3,
     "solution": true,
     "task": false
    }
   },
   "outputs": [],
   "source": [
    "def encode_pair(a_pair):\n",
    "    # YOUR CODE HERE\n",
    "    #raise NotImplementedError()\n",
    "    for i in a_pair:\n",
    "        a = a_pair[0]\n",
    "        b = a_pair[1]\n",
    "        A = (1/2)*(a+b)*(a+b+1)+a\n",
    "    return int(A)\n",
    "#print(encode_pair((6,3)))"
   ]
  },
  {
   "cell_type": "code",
   "execution_count": null,
   "metadata": {
    "deletable": false,
    "editable": false,
    "nbgrader": {
     "cell_type": "code",
     "checksum": "b4bb6ccf4a9b9b3c23a3cf73d6f0cf6d",
     "grade": false,
     "grade_id": "cell-21540d4986453f1a",
     "locked": true,
     "schema_version": 3,
     "solution": false,
     "task": false
    }
   },
   "outputs": [],
   "source": [
    "# Friendly testing  area \n",
    "# This cell is NOT graded\n",
    "pairs = [(0,0),(0,1),(1,0),(0,2),(1,1)]\n",
    "pairs += [(2,0),(0,3),(1,2),(2,1),(3,0)]\n",
    "for p in pairs: \n",
    "    print(\"The code of {} is {}\".format(p,encode_pair(p)))"
   ]
  },
  {
   "cell_type": "code",
   "execution_count": null,
   "metadata": {
    "deletable": false,
    "editable": false,
    "nbgrader": {
     "cell_type": "code",
     "checksum": "15db80399ab678c9725abaa3f2dc271d",
     "grade": true,
     "grade_id": "cell-30a734226012b766",
     "locked": true,
     "points": 1,
     "schema_version": 3,
     "solution": false,
     "task": false
    }
   },
   "outputs": [],
   "source": [
    "# In each of the tests (including 8 hidden tests) the input is \n",
    "# a pair of non-negative integers.\n",
    "assert encode_pair((0,0)) == 0\n",
    "assert encode_pair((2,1)) == 8\n",
    "assert encode_pair((6,3)) == 51\n",
    "assert encode_pair((6,4)) == 61\n",
    "assert encode_pair((2,40)) == 905\n",
    "assert encode_pair((123,712)) == 349153\n",
    "assert encode_pair((65304178,8234117)) == 2703940517826838"
   ]
  },
  {
   "cell_type": "markdown",
   "metadata": {
    "deletable": false,
    "editable": false,
    "nbgrader": {
     "cell_type": "markdown",
     "checksum": "871ebd38e5e30f05ee227f23fcb07fdc",
     "grade": false,
     "grade_id": "cell-0f91fa576566869f",
     "locked": true,
     "schema_version": 3,
     "solution": false,
     "task": false
    }
   },
   "source": [
    "**(b) (1 mark)** As noted above $f$ is bijective so that $f^{-1}$ is defined. Write down a function \n",
    "`decode_to_pair` which, given non-negative integer `n` as input returns the pair given by $f^{-1}(n)$.  "
   ]
  },
  {
   "cell_type": "code",
   "execution_count": null,
   "metadata": {
    "deletable": false,
    "nbgrader": {
     "cell_type": "code",
     "checksum": "adfd506a46ed5246b3a6e164384911fc",
     "grade": false,
     "grade_id": "cell-3d59ca6c735a127c",
     "locked": false,
     "schema_version": 3,
     "solution": true,
     "task": false
    }
   },
   "outputs": [],
   "source": [
    "def decode_to_pair(n):\n",
    "    # YOUR CODE HERE\n",
    "    #raise NotImplementedError()\n",
    "    pair1 = (0,0)\n",
    "    if encode_pair(pair1) == n:\n",
    "        return pair1\n",
    "    else:\n",
    "        for i in range(n):\n",
    "            for j in range(n):\n",
    "                if encode_pair((i,j)) == n:\n",
    "                    return (i,j)\n",
    "        #return pair          \n",
    "                \n",
    "                \n",
    "    \n",
    "    \n",
    "#print(decode_to_pair(905))        "
   ]
  },
  {
   "cell_type": "code",
   "execution_count": null,
   "metadata": {
    "deletable": false,
    "editable": false,
    "nbgrader": {
     "cell_type": "code",
     "checksum": "2d35300e7ead4156ddf18590ebc45921",
     "grade": false,
     "grade_id": "cell-f5a1c31e89dbcba4",
     "locked": true,
     "schema_version": 3,
     "solution": false,
     "task": false
    }
   },
   "outputs": [],
   "source": [
    "# Friendly testing  area \n",
    "# This cell is NOT graded\n",
    "for n in range(10): \n",
    "    print(\"{} decoded is the pair {}\".format(n,decode_to_pair(n)))"
   ]
  },
  {
   "cell_type": "code",
   "execution_count": null,
   "metadata": {
    "deletable": false,
    "editable": false,
    "nbgrader": {
     "cell_type": "code",
     "checksum": "a0e71a50fa0823a71a1444db56f79d25",
     "grade": true,
     "grade_id": "cell-95eab1af911a7436",
     "locked": true,
     "points": 1,
     "schema_version": 3,
     "solution": false,
     "task": false
    }
   },
   "outputs": [],
   "source": [
    "# In each of the tests (including 6 hidden tests) the input is a non-negative integer.\n",
    "# (Also there is no input greater than 20000, as the function code_to_pair may use up a \n",
    "# large amount of time and space.)\n",
    "assert decode_to_pair(0) == (0,0)\n",
    "assert decode_to_pair(8) == (2,1)\n",
    "assert decode_to_pair(51) == (6,3)\n",
    "assert decode_to_pair(61) == (6,4)\n",
    "assert decode_to_pair(905) == (2,40)\n",
    "assert decode_to_pair(2135) == (55,9)\n",
    "assert decode_to_pair(17824) == (58,130)"
   ]
  },
  {
   "cell_type": "code",
   "execution_count": null,
   "metadata": {},
   "outputs": [],
   "source": []
  }
 ],
 "metadata": {
  "kernelspec": {
   "display_name": "Python 3",
   "language": "python",
   "name": "python3"
  },
  "language_info": {
   "codemirror_mode": {
    "name": "ipython",
    "version": 3
   },
   "file_extension": ".py",
   "mimetype": "text/x-python",
   "name": "python",
   "nbconvert_exporter": "python",
   "pygments_lexer": "ipython3",
   "version": "3.7.4"
  }
 },
 "nbformat": 4,
 "nbformat_minor": 2
}
